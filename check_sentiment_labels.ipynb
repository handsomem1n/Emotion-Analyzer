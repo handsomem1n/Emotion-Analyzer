{
 "cells": [
  {
   "cell_type": "code",
   "execution_count": 7,
   "id": "262bfb73",
   "metadata": {},
   "outputs": [
    {
     "name": "stdout",
     "output_type": "stream",
     "text": [
      "고유 감정 레이블 종류: ['anger', 'fear', 'joy', 'love', 'sadness', 'surprise']\n"
     ]
    }
   ],
   "source": [
    "labels = []\n",
    "\n",
    "with open(\"/Users/newuser/한승민/2025-1/빅최기/감정분석/emotion_korTran/emotion_korTran.data\", \"r\", encoding=\"utf-8\") as f:\n",
    "    next(f)  # 첫 줄 (헤더) 건너뜀\n",
    "    for line in f:\n",
    "        parts = line.strip().rsplit(\",\", 1)  # 오른쪽에서 1번만 나누기\n",
    "        if len(parts) == 2:\n",
    "            label = parts[1]\n",
    "            labels.append(label)\n",
    "\n",
    "unique_labels = sorted(set(labels))\n",
    "print(\"고유 감정 레이블 종류:\", unique_labels)\n"
   ]
  }
 ],
 "metadata": {
  "kernelspec": {
   "display_name": "Python 3",
   "language": "python",
   "name": "python3"
  },
  "language_info": {
   "codemirror_mode": {
    "name": "ipython",
    "version": 3
   },
   "file_extension": ".py",
   "mimetype": "text/x-python",
   "name": "python",
   "nbconvert_exporter": "python",
   "pygments_lexer": "ipython3",
   "version": "3.11.6"
  }
 },
 "nbformat": 4,
 "nbformat_minor": 5
}
